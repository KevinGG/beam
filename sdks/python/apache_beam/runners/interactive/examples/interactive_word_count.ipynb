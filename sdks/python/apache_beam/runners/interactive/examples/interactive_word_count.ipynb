{
 "cells": [
  {
   "cell_type": "code",
   "execution_count": null,
   "metadata": {},
   "outputs": [],
   "source": [
    "from apache_beam.runners.interactive.interactive_runner import InteractiveRunner\n",
    "from apache_beam.runners.interactive.interactive_beam import *\n",
    "\n",
    "from __future__ import absolute_import\n",
    "\n",
    "import argparse\n",
    "import logging\n",
    "import re\n",
    "\n",
    "from past.builtins import unicode\n",
    "\n",
    "import apache_beam as beam\n",
    "from apache_beam.io import ReadFromText\n",
    "from apache_beam.io import WriteToText\n",
    "\n",
    "# An input file is downloaded through `gsutil cp gs://apache-beam-samples/shakespeare/kinglear.txt /tmp/`"
   ]
  },
  {
   "cell_type": "code",
   "execution_count": null,
   "metadata": {},
   "outputs": [],
   "source": [
    "p = beam.Pipeline(InteractiveRunner())\n",
    "lines = p | 'read' >> ReadFromText('/tmp/kinglear.txt')\n",
    "show(lines)"
   ]
  },
  {
   "cell_type": "code",
   "execution_count": null,
   "metadata": {},
   "outputs": [],
   "source": [
    "words = lines | 'split' >> beam.FlatMap(lambda line: re.findall(r'[\\w\\']+', line.strip(), re.UNICODE))\n",
    "show(words)"
   ]
  },
  {
   "cell_type": "code",
   "execution_count": null,
   "metadata": {},
   "outputs": [],
   "source": [
    "word_with_ones = words | 'pair_with_one' >> beam.Map(lambda word: (word, 1))\n",
    "show(word_with_ones)"
   ]
  },
  {
   "cell_type": "code",
   "execution_count": null,
   "metadata": {},
   "outputs": [],
   "source": [
    "ones_grouped_by_words = word_with_ones | 'group' >> beam.GroupByKey()\n",
    "show(ones_grouped_by_words)"
   ]
  },
  {
   "cell_type": "code",
   "execution_count": null,
   "metadata": {},
   "outputs": [],
   "source": [
    "counts = ones_grouped_by_words | 'count' >> beam.Map(lambda x: (x[0], sum(x[1])))\n",
    "show(counts)"
   ]
  },
  {
   "cell_type": "code",
   "execution_count": null,
   "metadata": {},
   "outputs": [],
   "source": [
    "output = counts | 'format' >> beam.Map(lambda x: '%s: %d' % (x[0], x[1]))\n",
    "show(output)"
   ]
  },
  {
   "cell_type": "code",
   "execution_count": null,
   "metadata": {},
   "outputs": [],
   "source": [
    "output | 'write' >> WriteToText('/tmp/output.txt')\n",
    "p.run()"
   ]
  }
 ],
 "metadata": {
  "kernelspec": {
   "display_name": "Python 3(beam_test)",
   "language": "python",
   "name": "p3_ib_venv"
  },
  "language_info": {
   "codemirror_mode": {
    "name": "ipython",
    "version": 3
   },
   "file_extension": ".py",
   "mimetype": "text/x-python",
   "name": "python",
   "nbconvert_exporter": "python",
   "pygments_lexer": "ipython3",
   "version": "3.7.4"
  }
 },
 "nbformat": 4,
 "nbformat_minor": 4
}
