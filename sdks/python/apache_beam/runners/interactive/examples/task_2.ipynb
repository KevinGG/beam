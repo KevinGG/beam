{
 "cells": [
  {
   "cell_type": "code",
   "execution_count": null,
   "metadata": {},
   "outputs": [],
   "source": [
    "import apache_beam as beam\n",
    "from apache_beam.runners.interactive import interactive_runner\n",
    "from apache_beam.runners.interactive.interactive_beam import *\n",
    "from apache_beam.transforms import trigger\n",
    "from apache_beam.options import pipeline_options\n",
    "topic = \"projects/google.com:clouddfe/topics/shakespeare-kinglear\""
   ]
  },
  {
   "cell_type": "code",
   "execution_count": null,
   "metadata": {},
   "outputs": [],
   "source": [
    "options = pipeline_options.PipelineOptions()\n",
    "options.view_as(pipeline_options.StandardOptions).streaming = True\n",
    "p = beam.Pipeline(interactive_runner.InteractiveRunner(), options=options)\n",
    "words = p | \"read\" >> beam.io.ReadFromPubSub(topic=topic)"
   ]
  },
  {
   "cell_type": "code",
   "execution_count": null,
   "metadata": {},
   "outputs": [],
   "source": [
    "windowed_words = (words \n",
    "                  | \"window\" >> beam.WindowInto(\n",
    "                      beam.window.FixedWindows(10),\n",
    "                      trigger=trigger.AfterWatermark(),\n",
    "                      accumulation_mode=trigger.AccumulationMode.DISCARDING))"
   ]
  },
  {
   "cell_type": "code",
   "execution_count": null,
   "metadata": {},
   "outputs": [],
   "source": [
    "windowed_word_counts = (windowed_words\n",
    "                        | \"count\" >> beam.combiners.Count.PerElement())\n",
    "show(windowed_word_counts)"
   ]
  },
  {
   "cell_type": "code",
   "execution_count": null,
   "metadata": {},
   "outputs": [],
   "source": [
    "show(windowed_word_counts)"
   ]
  },
  {
   "cell_type": "code",
   "execution_count": null,
   "metadata": {},
   "outputs": [],
   "source": [
    "counts_lower = (windowed_word_counts \n",
    "                | beam.MapTuple(lambda w, c: (w.lower(), c))\n",
    "                | beam.GroupByKey() \n",
    "                | beam.MapTuple(lambda w, c: (w, sum(c))))\n",
    "show(counts_lower)"
   ]
  }
 ],
 "metadata": {
  "language_info": {
   "codemirror_mode": {
    "name": "ipython",
    "version": 3
   },
   "file_extension": ".py",
   "mimetype": "text/x-python",
   "name": "python",
   "nbconvert_exporter": "python",
   "pygments_lexer": "ipython3",
   "version": "3.7.4"
  }
 },
 "nbformat": 4,
 "nbformat_minor": 4
}
