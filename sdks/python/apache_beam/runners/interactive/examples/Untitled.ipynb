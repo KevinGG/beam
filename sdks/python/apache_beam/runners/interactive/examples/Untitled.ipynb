{
 "cells": [
  {
   "cell_type": "code",
   "execution_count": null,
   "metadata": {},
   "outputs": [],
   "source": [
    "import logging\n",
    "logging.basicConfig()\n",
    "logging.getLogger().setLevel(logging.ERROR)\n",
    "\n",
    "import apache_beam as beam\n",
    "from apache_beam.runners.interactive import interactive_runner as ir\n",
    "from apache_beam.runners.interactive.interactive_beam import show\n",
    "\n",
    "p = beam.Pipeline(ir.InteractiveRunner())\n",
    "pcoll = p | 'Init' >> beam.Create(range(10))"
   ]
  },
  {
   "cell_type": "code",
   "execution_count": null,
   "metadata": {},
   "outputs": [],
   "source": [
    "from apache_beam.runners.interactive import interactive_environment as ie\n",
    "print(ie.current_env().is_in_notebook)"
   ]
  },
  {
   "cell_type": "code",
   "execution_count": null,
   "metadata": {},
   "outputs": [],
   "source": [
    "square = pcoll |  beam.Map(lambda x: x * x)\n",
    "cube = pcoll |  beam.Map(lambda x: x ** 3)\n",
    "\n",
    "show(square)\n",
    "# p.run()"
   ]
  },
  {
   "cell_type": "code",
   "execution_count": null,
   "metadata": {},
   "outputs": [],
   "source": [
    "show(square)"
   ]
  },
  {
   "cell_type": "code",
   "execution_count": null,
   "metadata": {},
   "outputs": [],
   "source": [
    "p.run()"
   ]
  },
  {
   "cell_type": "code",
   "execution_count": null,
   "metadata": {},
   "outputs": [],
   "source": [
    "import os\n",
    "print(os.environ['GOOGLE_APPLICATION_CREDENTIALS'])"
   ]
  },
  {
   "cell_type": "code",
   "execution_count": null,
   "metadata": {},
   "outputs": [],
   "source": [
    "import apache_beam.version as beam_version\n",
    "from apache_beam.runners.dataflow import dataflow_runner\n",
    "from apache_beam.options.pipeline_options import PipelineOptions\n",
    "from apache_beam.options.pipeline_options import GoogleCloudOptions\n",
    "from apache_beam.options.pipeline_options import SetupOptions\n",
    "\n",
    "pipeline_options = PipelineOptions()\n",
    "pipeline_options.view_as(SetupOptions).sdk_location = '/Users/ningk/workspace/beam/sdks/python/apache_beam.tar.gz'\n",
    "google_cloud_options = pipeline_options.view_as(GoogleCloudOptions)\n",
    "google_cloud_options.project = 'ningk-test-project'\n",
    "google_cloud_options.region = 'us-west1'\n",
    "google_cloud_options.temp_location = 'gs://ningk-test/tmp'\n",
    "google_cloud_options.staging_location = 'gs://ningk-test/tmp'\n",
    "result = dataflow_runner.DataflowRunner().run_pipeline(p, options = pipeline_options)\n",
    "result.wait_until_finish()"
   ]
  }
 ],
 "metadata": {
  "kernelspec": {
   "display_name": "Python3 (ib_venv)",
   "language": "python",
   "name": "p3_ib_venv"
  },
  "language_info": {
   "codemirror_mode": {
    "name": "ipython",
    "version": 3
   },
   "file_extension": ".py",
   "mimetype": "text/x-python",
   "name": "python",
   "nbconvert_exporter": "python",
   "pygments_lexer": "ipython3",
   "version": "3.7.4"
  }
 },
 "nbformat": 4,
 "nbformat_minor": 4
}
