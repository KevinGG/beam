{
 "cells": [
  {
   "cell_type": "code",
   "execution_count": 1,
   "metadata": {},
   "outputs": [],
   "source": [
    "from collections import namedtuple\n",
    "\n",
    "import apache_beam as beam\n",
    "from apache_beam.runners.interactive.interactive_runner import InteractiveRunner\n",
    "from apache_beam.runners.interactive.interactive_beam import *\n",
    "from apache_beam.runners.interactive.messaging.interactive_environment_inspector import *"
   ]
  },
  {
   "cell_type": "code",
   "execution_count": 2,
   "metadata": {},
   "outputs": [],
   "source": [
    "p = beam.Pipeline(InteractiveRunner())"
   ]
  },
  {
   "cell_type": "code",
   "execution_count": 3,
   "metadata": {},
   "outputs": [],
   "source": [
    "DataPoint = namedtuple('DataPoint', ['x', 'y'])\n",
    "init = p | \"Read\" >> beam.Create(range(10)) | beam.Map(lambda x: DataPoint(x, x))\n",
    "square = init | beam.Map(lambda p: DataPoint(p.x, p.x*p.x))\n",
    "cube = init | beam.Map(lambda p: DataPoint(p.x, p.x**3))"
   ]
  },
  {
   "cell_type": "code",
   "execution_count": 4,
   "metadata": {},
   "outputs": [],
   "source": [
    "Correlation = namedtuple('Correlation', ['val', 'square', 'cube'])\n",
    "correlation = {'val': init,\n",
    "               'square': square,\n",
    "               'cube': cube} | beam.CoGroupByKey() | beam.Map(lambda gp: Correlation(gp[1]['val'][0], gp[1]['square'][0], gp[1]['cube'][0]))"
   ]
  },
  {
   "cell_type": "code",
   "execution_count": null,
   "metadata": {},
   "outputs": [],
   "source": []
  }
 ],
 "metadata": {
  "kernelspec": {
   "display_name": "Python 3(beam_test)",
   "language": "python",
   "name": "p3_ib_venv"
  },
  "language_info": {
   "codemirror_mode": {
    "name": "ipython",
    "version": 3
   },
   "file_extension": ".py",
   "mimetype": "text/x-python",
   "name": "python",
   "nbconvert_exporter": "python",
   "pygments_lexer": "ipython3",
   "version": "3.7.4"
  }
 },
 "nbformat": 4,
 "nbformat_minor": 4
}
