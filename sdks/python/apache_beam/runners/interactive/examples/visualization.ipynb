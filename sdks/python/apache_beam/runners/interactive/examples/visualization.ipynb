{
 "cells": [
  {
   "cell_type": "code",
   "execution_count": null,
   "metadata": {},
   "outputs": [],
   "source": [
    "import logging\n",
    "logging.getLogger().setLevel(logging.ERROR)\n",
    "\n",
    "import apache_beam as beam\n",
    "from apache_beam.runners.interactive import interactive_runner\n",
    "from apache_beam.runners.interactive.interactive_beam import * \n",
    "\n",
    "bp = beam.Pipeline(interactive_runner.InteractiveRunner())\n",
    "\n",
    "init_pcoll = bp |  'Init Create' >> beam.Create(range(1000))\n",
    "squares = init_pcoll | 'Square' >> beam.Map(lambda x: x*x)\n",
    "cubes = init_pcoll | 'Cube' >> beam.Map(lambda x: x**3)"
   ]
  },
  {
   "cell_type": "code",
   "execution_count": null,
   "metadata": {},
   "outputs": [],
   "source": [
    "show(cubes)"
   ]
  },
  {
   "cell_type": "code",
   "execution_count": null,
   "metadata": {},
   "outputs": [],
   "source": [
    "class Foo(object):\n",
    "    def __init__(self, x, y, z):\n",
    "        self.init = x\n",
    "        self.square = y\n",
    "        self.cube = z\n",
    "        self.nested_bar = NestedBar(x,y)\n",
    "        self.iterable_bar = IterableBar(x)\n",
    "\n",
    "class NestedBar(object):\n",
    "    def __init__(self, a, b):\n",
    "        self.val = a + b\n",
    "\n",
    "class IterableBar(object):\n",
    "    def __init__(self, a):\n",
    "        self.val = [a] * 10\n",
    "        \n",
    "exp = init_pcoll | beam.Map(lambda x: Foo(x, x*x, x**3))"
   ]
  },
  {
   "cell_type": "code",
   "execution_count": null,
   "metadata": {},
   "outputs": [],
   "source": [
    "show(exp)"
   ]
  },
  {
   "cell_type": "code",
   "execution_count": null,
   "metadata": {},
   "outputs": [],
   "source": [
    "bp.run()"
   ]
  },
  {
   "cell_type": "code",
   "execution_count": null,
   "metadata": {},
   "outputs": [],
   "source": [
    "# As long as it's watched, a pipeline defined in a function can also have interactivity augmented.\n",
    "def build_pipeline():\n",
    "    bp = beam.Pipeline(interactive_runner.InteractiveRunner())\n",
    "    init_pcoll = bp |  'Init Create' >> beam.Create(range(1000))\n",
    "    exp = init_pcoll | 'Exp' >> beam.Map(lambda x: Foo(x, x*x, x**3))\n",
    "    watch(locals())\n",
    "    return bp, init_pcoll, exp\n",
    "\n",
    "_, _, local_exp = build_pipeline()\n",
    "show(local_exp)"
   ]
  },
  {
   "cell_type": "code",
   "execution_count": null,
   "metadata": {},
   "outputs": [],
   "source": [
    "import apache_beam as beam\n",
    "from apache_beam.runners.interactive import interactive_runner\n",
    "from apache_beam.options.pipeline_options import PipelineOptions\n",
    "from apache_beam.options.pipeline_options import StandardOptions\n",
    "\n",
    "pipeline_options = PipelineOptions()\n",
    "pipeline_options.view_as(StandardOptions).streaming = True\n",
    "sp = beam.Pipeline(interactive_runner.InteractiveRunner(),\n",
    "                  options=pipeline_options)\n",
    "\n",
    "taxi_rides = sp | \"Read\" >> beam.io.ReadFromPubSub(subscription='projects/ningk-test-project/subscriptions/test')"
   ]
  },
  {
   "cell_type": "code",
   "execution_count": null,
   "metadata": {},
   "outputs": [],
   "source": [
    "# Once streaming cache and test stream are avaialble, enable the streaming pipeline run and visualization.\n",
    "# sp_result = sp.run()\n",
    "# visualize(taxi_rides)\n",
    "\n",
    "# import time\n",
    "# time.sleep(10)\n",
    "# sp_result.cancel()"
   ]
  },
  {
   "cell_type": "code",
   "execution_count": null,
   "metadata": {},
   "outputs": [],
   "source": [
    "# Even if there are multiple pipelines defined in a single notebook, the result should still be accessible correctly from bp.\n",
    "visualize(exp)"
   ]
  }
 ],
 "metadata": {
  "kernelspec": {
   "display_name": "Python3 (ib_venv)",
   "language": "python",
   "name": "p3_ib_venv"
  },
  "language_info": {
   "codemirror_mode": {
    "name": "ipython",
    "version": 3
   },
   "file_extension": ".py",
   "mimetype": "text/x-python",
   "name": "python",
   "nbconvert_exporter": "python",
   "pygments_lexer": "ipython3",
   "version": "3.7.4"
  }
 },
 "nbformat": 4,
 "nbformat_minor": 4
}
