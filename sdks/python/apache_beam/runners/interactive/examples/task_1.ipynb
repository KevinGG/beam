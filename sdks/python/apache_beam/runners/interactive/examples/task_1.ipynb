{
 "cells": [
  {
   "cell_type": "code",
   "execution_count": null,
   "metadata": {},
   "outputs": [],
   "source": [
    "import re\n",
    "\n",
    "import apache_beam as beam\n",
    "from apache_beam.runners.interactive.interactive_runner import InteractiveRunner\n",
    "from apache_beam.runners.interactive.interactive_beam import *\n",
    "\n",
    "\n",
    "class ReadWordsFromText(beam.PTransform):\n",
    "    \n",
    "    def __init__(self, file_pattern):\n",
    "        self._file_pattern = file_pattern\n",
    "    \n",
    "    def expand(self, pcoll):\n",
    "        return pcoll.pipeline | beam.io.ReadFromText(self._file_pattern) | beam.FlatMap(lambda line: re.findall(r'[\\w\\']+', line.strip(), re.UNICODE))"
   ]
  },
  {
   "cell_type": "code",
   "execution_count": null,
   "metadata": {},
   "outputs": [],
   "source": [
    "p = beam.Pipeline(InteractiveRunner())\n",
    "words = p | 'read' >> ReadWordsFromText('gs://apache-beam-samples/shakespeare/kinglear.txt')\n",
    "show(words)"
   ]
  },
  {
   "cell_type": "code",
   "execution_count": null,
   "metadata": {},
   "outputs": [],
   "source": [
    "counts = (words \n",
    "          | 'count' >> beam.combiners.Count.PerElement()\n",
    "          | 'dict' >> beam.MapTuple(lambda word, count: {'word': word, 'count': count}))\n",
    "show(counts)"
   ]
  },
  {
   "cell_type": "code",
   "execution_count": null,
   "metadata": {},
   "outputs": [],
   "source": [
    "output = counts | 'format' >> beam.Map(lambda d: '%s: %d' % (d['word'], d['count']))\n",
    "show(output)"
   ]
  },
  {
   "cell_type": "code",
   "execution_count": null,
   "metadata": {},
   "outputs": [],
   "source": [
    "output | 'write' >> beam.io.WriteToText('/tmp/output.txt')"
   ]
  },
  {
   "cell_type": "code",
   "execution_count": null,
   "metadata": {},
   "outputs": [],
   "source": [
    "p.run()"
   ]
  },
  {
   "cell_type": "code",
   "execution_count": null,
   "metadata": {},
   "outputs": [],
   "source": [
    "# Give output a new format.\n",
    "output = counts | 'format' >> beam.Map(lambda d: '%s -> %d' % (d['word'], d['count']))\n",
    "show(output)"
   ]
  },
  {
   "cell_type": "code",
   "execution_count": null,
   "metadata": {},
   "outputs": [],
   "source": [
    "# Also output to new targets.\n",
    "output | 'write to local' >> beam.io.WriteToText('/tmp/count.txt')\n",
    "output | 'write to gcs' >> beam.io.WriteToText('gs://ib_notebook_examples/simply_write/count.txt')"
   ]
  },
  {
   "cell_type": "code",
   "execution_count": null,
   "metadata": {},
   "outputs": [],
   "source": [
    "p.run()"
   ]
  }
 ],
 "metadata": {
  "language_info": {
   "codemirror_mode": {
    "name": "ipython",
    "version": 3
   },
   "file_extension": ".py",
   "mimetype": "text/x-python",
   "name": "python",
   "nbconvert_exporter": "python",
   "pygments_lexer": "ipython3",
   "version": "3.7.4"
  }
 },
 "nbformat": 4,
 "nbformat_minor": 4
}
