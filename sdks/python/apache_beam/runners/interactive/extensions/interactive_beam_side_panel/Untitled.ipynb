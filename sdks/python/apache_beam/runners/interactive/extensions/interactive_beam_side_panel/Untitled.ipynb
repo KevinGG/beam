{
 "cells": [
  {
   "cell_type": "code",
   "execution_count": 1,
   "metadata": {},
   "outputs": [],
   "source": [
    "import re\n",
    "import apache_beam as beam\n",
    "from apache_beam.runners.interactive.interactive_runner import InteractiveRunner\n",
    "import apache_beam.runners.interactive.interactive_beam as ib"
   ]
  },
  {
   "cell_type": "code",
   "execution_count": 2,
   "metadata": {},
   "outputs": [],
   "source": [
    "p_small = beam.Pipeline(InteractiveRunner())\n",
    "\n",
    "small_data = [\n",
    "    {\"0\":\"son's\",\"1\":29},{\"0\":\"to's\",\"1\":580}\n",
    "]\n",
    "\n",
    "for i in range(1000):\n",
    "    small_data.append({\"0\":\"abc\"+str(i), \"1\":i % 100})\n",
    "\n",
    "pcoll_small = p_small | beam.Create(small_data)"
   ]
  },
  {
   "cell_type": "code",
   "execution_count": 3,
   "metadata": {},
   "outputs": [],
   "source": [
    "class ReadWordsFromText(beam.PTransform):\n",
    "    \n",
    "    def __init__(self, file_pattern):\n",
    "        self._file_pattern = file_pattern\n",
    "    \n",
    "    def expand(self, pcoll):\n",
    "        return (pcoll.pipeline\n",
    "                | beam.io.ReadFromText(self._file_pattern)\n",
    "                | beam.FlatMap(lambda line: re.findall(r'[\\w\\']+', line.strip(), re.UNICODE)))"
   ]
  },
  {
   "cell_type": "code",
   "execution_count": 4,
   "metadata": {},
   "outputs": [],
   "source": [
    "p = beam.Pipeline(InteractiveRunner())"
   ]
  },
  {
   "cell_type": "code",
   "execution_count": 5,
   "metadata": {},
   "outputs": [],
   "source": [
    "words = (p \n",
    "         | 'read' >> ReadWordsFromText('gs://apache-beam-samples/shakespeare/kinglear.txt')\n",
    "         | 'lower' >> beam.Map(lambda word: word.lower()))\n",
    "import random\n",
    "\n",
    "data = words | beam.Map(lambda word: (word, random.randint(1, 101)))"
   ]
  },
  {
   "cell_type": "code",
   "execution_count": 6,
   "metadata": {},
   "outputs": [],
   "source": [
    "counts = (words \n",
    "          | 'count' >> beam.combiners.Count.PerElement())"
   ]
  },
  {
   "cell_type": "code",
   "execution_count": 7,
   "metadata": {},
   "outputs": [],
   "source": [
    "def cross_join(left, rights):\n",
    "    for x in rights:\n",
    "        if left[0] == x:\n",
    "            yield (left, x)"
   ]
  },
  {
   "cell_type": "code",
   "execution_count": 8,
   "metadata": {},
   "outputs": [],
   "source": [
    "words_with_counts_bigger_than_100 = counts | beam.Filter(lambda count: count[1] > 100) | beam.Map(lambda count: count[0])\n",
    "data_with_word_counts_bigger_than_100 = data | beam.FlatMap(cross_join, rights=beam.pvalue.AsIter(words_with_counts_bigger_than_100))"
   ]
  },
  {
   "cell_type": "code",
   "execution_count": 9,
   "metadata": {},
   "outputs": [
    {
     "data": {
      "text/html": [
       "\n",
       "            <link rel=\"stylesheet\" href=\"https://stackpath.bootstrapcdn.com/bootstrap/4.4.1/css/bootstrap.min.css\" integrity=\"sha384-Vkoo8x4CGsO3+Hhxv8T/Q5PaXtkKtu6ug5TOeNV6gBiFeWPGFN9MuhOf23Q9Ifjh\" crossorigin=\"anonymous\">\n",
       "            <div class=\"alert alert-info\">You have changed capture duration from 60.0 seconds to 30.0 seconds. To allow new data to be captured for the updated duration, the next time a PCollection is evaluated or the pipeline is executed, please invoke evict_captured_data().</div>"
      ],
      "text/plain": [
       "<IPython.core.display.HTML object>"
      ]
     },
     "metadata": {},
     "output_type": "display_data"
    }
   ],
   "source": [
    "import apache_beam as beam\n",
    "from apache_beam.runners.interactive import interactive_runner\n",
    "import apache_beam.runners.interactive.interactive_beam as ib\n",
    "from apache_beam.transforms import trigger\n",
    "from apache_beam.options import pipeline_options\n",
    "from apache_beam.options.pipeline_options import GoogleCloudOptions\n",
    "from datetime import timedelta\n",
    "import google.auth\n",
    "import json\n",
    "import pandas as pd\n",
    "\n",
    "# The Google Cloud PubSub topic that we are reading from for this example.\n",
    "topic = \"projects/pubsub-public-data/topics/taxirides-realtime\"\n",
    "\n",
    "# Setting up the Beam pipeline options.\n",
    "options = pipeline_options.PipelineOptions()\n",
    "\n",
    "# Sets the pipeline mode to streaming, so we can stream the data from PubSub.\n",
    "options.view_as(pipeline_options.StandardOptions).streaming = True\n",
    "\n",
    "# Sets the project to the default project in your current Google Cloud environment.\n",
    "# The project will be used for creating a subscription to the PubSub topic.\n",
    "_, options.view_as(GoogleCloudOptions).project = google.auth.default()\n",
    "\n",
    "ib.options.capture_duration = timedelta(seconds=30)\n",
    "\n",
    "p_taxi = beam.Pipeline(interactive_runner.InteractiveRunner(), options=options)\n",
    "\n",
    "data = p_taxi | \"read\" >> beam.io.ReadFromPubSub(topic=topic) | beam.Map(json.loads)\n",
    "\n",
    "windowed_data = (data | \"window\" >> beam.WindowInto(beam.window.SlidingWindows(10, 1)))"
   ]
  },
  {
   "cell_type": "code",
   "execution_count": 10,
   "metadata": {},
   "outputs": [],
   "source": [
    "from datetime import timedelta\n",
    "from apache_beam.options import pipeline_options\n",
    "from apache_beam.options.pipeline_options import GoogleCloudOptions\n",
    "import google.auth\n",
    "topic = \"projects/pubsub-public-data/topics/shakespeare-kinglear\"\n",
    "\n",
    "# Setting up the Apache Beam pipeline options.\n",
    "options = pipeline_options.PipelineOptions()\n",
    "# Sets the pipeline mode to streaming, so we can stream the data from PubSub.\n",
    "options.view_as(pipeline_options.StandardOptions).streaming = True\n",
    "# Sets the project to the default project in your current Google Cloud environment.\n",
    "# The project will be used for creating a subscription to the Pub/Sub topic.\n",
    "_, options.view_as(GoogleCloudOptions).project = google.auth.default()"
   ]
  },
  {
   "cell_type": "code",
   "execution_count": 11,
   "metadata": {},
   "outputs": [],
   "source": [
    "from apache_beam.runners.interactive import interactive_beam as ib\n",
    "\n",
    "ib.options.capture_duration = timedelta(seconds=30)\n",
    "\n",
    "pstreaming = beam.Pipeline(InteractiveRunner(), options=options)\n",
    "\n",
    "words = (pstreaming\n",
    "            | 'Read' >> beam.io.ReadFromPubSub(topic=topic)\n",
    "            | 'Window' >> beam.WindowInto(beam.window.FixedWindows(5)))"
   ]
  },
  {
   "cell_type": "code",
   "execution_count": null,
   "metadata": {},
   "outputs": [],
   "source": [
    "from bokeh.plotting import figure, output_notebook, show\n",
    "from bokeh.embed import json_item\n",
    "from bokeh.resources import INLINE\n",
    "\n",
    "output_notebook(INLINE)\n",
    "# prepare some data\n",
    "x = [1, 2, 3, 4, 5]\n",
    "y = [6, 7, 2, 4, 5]\n",
    "\n",
    "# create a new plot with a title and axis labels\n",
    "p = figure(title=\"simple line example\", x_axis_label='x', y_axis_label='y')\n",
    "\n",
    "# add a line renderer with legend and line thickness\n",
    "p.line(x, y, legend_label=\"Temp.\", line_width=2)\n",
    "\n",
    "# show(p)"
   ]
  },
  {
   "cell_type": "code",
   "execution_count": null,
   "metadata": {},
   "outputs": [],
   "source": [
    "import json\n",
    "item_text = json.dumps(json_item(p, 'aplot'))"
   ]
  },
  {
   "cell_type": "code",
   "execution_count": null,
   "metadata": {},
   "outputs": [],
   "source": [
    "%%html\n",
    "\n",
    "<script type=\"text/javascript\" src=\"https://cdn.bokeh.org/bokeh/release/bokeh-2.1.0.min.js\" integrity=\"sha384-YobFyzPeVUsFQydHkJGsJL1kyfHnWxOlPc3EwaV22TmBaeGoXHLWx5aRRVPS9xlE\" crossorigin=\"anonymous\"></script>\n",
    "<script type=\"text/javascript\" src=\"https://cdn.bokeh.org/bokeh/release/bokeh-widgets-2.1.0.min.js\" integrity=\"sha384-NuAg9+TcTQQqvQCTtkCneRrpkTiMhhfiq0KHiBzx8ECiKiLWXHN6i6ia3q7b3eHu\" crossorigin=\"anonymous\"></script>\n",
    "<script type=\"text/javascript\" src=\"https://cdn.bokeh.org/bokeh/release/bokeh-tables-2.1.0.min.js\" integrity=\"sha384-uMVqQc8JqHitD67bXTn9a06Mrk3EiHRaZ18EJENQenAKJ/KL71SakdXYomZQpGRr\" crossorigin=\"anonymous\"></script>\n",
    "<script type=\"text/javascript\" src=\"https://cdn.bokeh.org/bokeh/release/bokeh-gl-2.1.0.min.js\" integrity=\"sha384-u+eGuEXC8aw0VSCm2mH+b/tQEAitUOYiR1H6SuIVEdUmXsf4vN8m/SmXpmjb7U/X\" crossorigin=\"anonymous\"></script>\n",
    "<script type=\"text/javascript\" src=\"https://cdn.bokeh.org/bokeh/release/bokeh-api-2.1.0.min.js\" integrity=\"sha384-xIZ6DggyeeSB9o8lHxPnUJ4VvsdRuiKdRbWJwKIyqMvCe2PSJUnosrCjOBeBVjou\" crossorigin=\"anonymous\"></script>\n",
    "\n",
    "<div id='aplot'>\n",
    "</div>"
   ]
  },
  {
   "cell_type": "code",
   "execution_count": null,
   "metadata": {},
   "outputs": [],
   "source": [
    "%%javascript\n",
    "let item_text = '{\"target_id\": \"aplot\", \"root_id\": \"1785\", \"doc\": {\"roots\": {\"references\": [{\"attributes\": {}, \"id\": \"1792\", \"type\": \"LinearScale\"}, {\"attributes\": {\"axis_label\": \"y\", \"formatter\": {\"id\": \"1825\"}, \"ticker\": {\"id\": \"1801\"}}, \"id\": \"1800\", \"type\": \"LinearAxis\"}, {\"attributes\": {}, \"id\": \"1790\", \"type\": \"DataRange1d\"}, {\"attributes\": {\"label\": {\"value\": \"Temp.\"}, \"renderers\": [{\"id\": \"1821\"}]}, \"id\": \"1832\", \"type\": \"LegendItem\"}, {\"attributes\": {}, \"id\": \"1807\", \"type\": \"SaveTool\"}, {\"attributes\": {\"below\": [{\"id\": \"1796\"}], \"center\": [{\"id\": \"1799\"}, {\"id\": \"1803\"}, {\"id\": \"1831\"}], \"left\": [{\"id\": \"1800\"}], \"renderers\": [{\"id\": \"1821\"}], \"title\": {\"id\": \"1786\"}, \"toolbar\": {\"id\": \"1811\"}, \"x_range\": {\"id\": \"1788\"}, \"x_scale\": {\"id\": \"1792\"}, \"y_range\": {\"id\": \"1790\"}, \"y_scale\": {\"id\": \"1794\"}}, \"id\": \"1785\", \"subtype\": \"Figure\", \"type\": \"Plot\"}, {\"attributes\": {\"data_source\": {\"id\": \"1818\"}, \"glyph\": {\"id\": \"1819\"}, \"hover_glyph\": null, \"muted_glyph\": null, \"nonselection_glyph\": {\"id\": \"1820\"}, \"selection_glyph\": null, \"view\": {\"id\": \"1822\"}}, \"id\": \"1821\", \"type\": \"GlyphRenderer\"}, {\"attributes\": {}, \"id\": \"1808\", \"type\": \"ResetTool\"}, {\"attributes\": {}, \"id\": \"1830\", \"type\": \"UnionRenderers\"}, {\"attributes\": {}, \"id\": \"1805\", \"type\": \"WheelZoomTool\"}, {\"attributes\": {}, \"id\": \"1827\", \"type\": \"BasicTickFormatter\"}, {\"attributes\": {\"overlay\": {\"id\": \"1810\"}}, \"id\": \"1806\", \"type\": \"BoxZoomTool\"}, {\"attributes\": {\"source\": {\"id\": \"1818\"}}, \"id\": \"1822\", \"type\": \"CDSView\"}, {\"attributes\": {}, \"id\": \"1809\", \"type\": \"HelpTool\"}, {\"attributes\": {}, \"id\": \"1794\", \"type\": \"LinearScale\"}, {\"attributes\": {}, \"id\": \"1825\", \"type\": \"BasicTickFormatter\"}, {\"attributes\": {\"bottom_units\": \"screen\", \"fill_alpha\": 0.5, \"fill_color\": \"lightgrey\", \"left_units\": \"screen\", \"level\": \"overlay\", \"line_alpha\": 1.0, \"line_color\": \"black\", \"line_dash\": [4, 4], \"line_width\": 2, \"right_units\": \"screen\", \"top_units\": \"screen\"}, \"id\": \"1810\", \"type\": \"BoxAnnotation\"}, {\"attributes\": {}, \"id\": \"1829\", \"type\": \"Selection\"}, {\"attributes\": {\"axis_label\": \"x\", \"formatter\": {\"id\": \"1827\"}, \"ticker\": {\"id\": \"1797\"}}, \"id\": \"1796\", \"type\": \"LinearAxis\"}, {\"attributes\": {\"data\": {\"x\": [1, 2, 3, 4, 5], \"y\": [6, 7, 2, 4, 5]}, \"selected\": {\"id\": \"1829\"}, \"selection_policy\": {\"id\": \"1830\"}}, \"id\": \"1818\", \"type\": \"ColumnDataSource\"}, {\"attributes\": {\"axis\": {\"id\": \"1800\"}, \"dimension\": 1, \"ticker\": null}, \"id\": \"1803\", \"type\": \"Grid\"}, {\"attributes\": {\"line_color\": \"#1f77b4\", \"line_width\": 2, \"x\": {\"field\": \"x\"}, \"y\": {\"field\": \"y\"}}, \"id\": \"1819\", \"type\": \"Line\"}, {\"attributes\": {}, \"id\": \"1797\", \"type\": \"BasicTicker\"}, {\"attributes\": {\"active_drag\": \"auto\", \"active_inspect\": \"auto\", \"active_multi\": null, \"active_scroll\": \"auto\", \"active_tap\": \"auto\", \"tools\": [{\"id\": \"1804\"}, {\"id\": \"1805\"}, {\"id\": \"1806\"}, {\"id\": \"1807\"}, {\"id\": \"1808\"}, {\"id\": \"1809\"}]}, \"id\": \"1811\", \"type\": \"Toolbar\"}, {\"attributes\": {\"line_alpha\": 0.1, \"line_color\": \"#1f77b4\", \"line_width\": 2, \"x\": {\"field\": \"x\"}, \"y\": {\"field\": \"y\"}}, \"id\": \"1820\", \"type\": \"Line\"}, {\"attributes\": {\"text\": \"simple line example\"}, \"id\": \"1786\", \"type\": \"Title\"}, {\"attributes\": {}, \"id\": \"1788\", \"type\": \"DataRange1d\"}, {\"attributes\": {\"items\": [{\"id\": \"1832\"}]}, \"id\": \"1831\", \"type\": \"Legend\"}, {\"attributes\": {\"axis\": {\"id\": \"1796\"}, \"ticker\": null}, \"id\": \"1799\", \"type\": \"Grid\"}, {\"attributes\": {}, \"id\": \"1804\", \"type\": \"PanTool\"}, {\"attributes\": {}, \"id\": \"1801\", \"type\": \"BasicTicker\"}], \"root_ids\": [\"1785\"]}, \"title\": \"\", \"version\": \"2.1.0\"}}';\n",
    "Bokeh.embed.embed_item(JSON.parse(item_text), \"aplot\");"
   ]
  },
  {
   "cell_type": "code",
   "execution_count": null,
   "metadata": {},
   "outputs": [],
   "source": [
    "from apache_beam.runners.interactive.display import pipeline_graph as pg\n",
    "from apache_beam.runners.interactive import pipeline_fragment as pf"
   ]
  },
  {
   "cell_type": "code",
   "execution_count": null,
   "metadata": {},
   "outputs": [],
   "source": [
    "from apache_beam.runners.interactive import interactive_environment as ie\n",
    "\n",
    "ie.current_env().inspector.list_inspectables()"
   ]
  },
  {
   "cell_type": "code",
   "execution_count": null,
   "metadata": {},
   "outputs": [],
   "source": [
    "ie.current_env().inspector.get_pcoll_data('eb436bfed4b4592f1eb790065817c629')"
   ]
  },
  {
   "cell_type": "code",
   "execution_count": null,
   "metadata": {},
   "outputs": [],
   "source": [
    "pg.PipelineGraph(pf.PipelineFragment([counts]).deduce_fragment()).display_graph()"
   ]
  },
  {
   "cell_type": "code",
   "execution_count": null,
   "metadata": {},
   "outputs": [],
   "source": [
    "from apache_beam.runners.interactive import pipeline_instrument as pi\n",
    "\n",
    "pg.PipelineGraph(pi.build_pipeline_instrument(pf.PipelineFragment([counts]).deduce_fragment())._pipeline).display_graph()"
   ]
  },
  {
   "cell_type": "code",
   "execution_count": null,
   "metadata": {},
   "outputs": [],
   "source": [
    "pg.PipelineGraph(p).display_graph()"
   ]
  },
  {
   "cell_type": "code",
   "execution_count": null,
   "metadata": {},
   "outputs": [],
   "source": []
  }
 ],
 "metadata": {
  "kernelspec": {
   "display_name": "dev",
   "language": "python",
   "name": "dev"
  },
  "language_info": {
   "codemirror_mode": {
    "name": "ipython",
    "version": 3
   },
   "file_extension": ".py",
   "mimetype": "text/x-python",
   "name": "python",
   "nbconvert_exporter": "python",
   "pygments_lexer": "ipython3",
   "version": "3.7.7"
  }
 },
 "nbformat": 4,
 "nbformat_minor": 4
}
